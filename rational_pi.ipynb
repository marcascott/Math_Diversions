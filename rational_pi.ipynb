{
 "metadata": {
  "name": "",
  "signature": "sha256:7bbc42d8e547f8b004da4f0f37cd9ef860d42adc11ead64aa9983cc98b5be167"
 },
 "nbformat": 3,
 "nbformat_minor": 0,
 "worksheets": [
  {
   "cells": [
    {
     "cell_type": "code",
     "collapsed": false,
     "input": [
      "import matplotlib.pyplot as plt\n",
      "import numpy as np\n",
      "import math as m"
     ],
     "language": "python",
     "metadata": {},
     "outputs": [],
     "prompt_number": 67
    },
    {
     "cell_type": "code",
     "collapsed": false,
     "input": [
      "def rational_pi(upper_bd=1000):\n",
      "    num = 2.0\n",
      "    den = 1.0\n",
      "    dist = abs(m.pi-num/den)\n",
      "    nlist = [] #place to store results\n",
      "    for new_num in range(3,upper_bd+1):\n",
      "        new_den = np.round(new_num/m.pi)\n",
      "        new_dist = abs(new_num/new_den-m.pi)\n",
      "        if new_dist < dist:\n",
      "            num = new_num\n",
      "            den = new_den\n",
      "            dist = new_dist\n",
      "            #print new_num, new_den, new_dist, new_num/new_den\n",
      "            #save numerators with improvement:\n",
      "            nlist.append(num)\n",
      "    return num,den,num/den,nlist"
     ],
     "language": "python",
     "metadata": {},
     "outputs": [],
     "prompt_number": 55
    },
    {
     "cell_type": "code",
     "collapsed": false,
     "input": [
      "n,d,v,l = rational_pi(10000000)"
     ],
     "language": "python",
     "metadata": {},
     "outputs": [],
     "prompt_number": 70
    },
    {
     "cell_type": "code",
     "collapsed": false,
     "input": [
      "%matplotlib inline\n",
      "plt.scatter(l,l)"
     ],
     "language": "python",
     "metadata": {},
     "outputs": [
      {
       "metadata": {},
       "output_type": "pyout",
       "prompt_number": 71,
       "text": [
        "<matplotlib.collections.PathCollection at 0x1059505d0>"
       ]
      },
      {
       "metadata": {},
       "output_type": "display_data",
       "png": "[encoded data removed]",
       "text": [
        "<matplotlib.figure.Figure at 0x1057c6bd0>"
       ]
      }
     ],
     "prompt_number": 71
    }
   ],
   "metadata": {}
  }
 ]
}