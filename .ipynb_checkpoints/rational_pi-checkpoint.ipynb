{
 "metadata": {
  "name": "",
  "signature": "sha256:298bd38767e0b8507780b02ab6165f765947f73706c732593cc359cc3b11f4cd"
 },
 "nbformat": 3,
 "nbformat_minor": 0,
 "worksheets": [
  {
   "cells": [
    {
     "cell_type": "code",
     "collapsed": false,
     "input": [
      "import matplotlib.pyplot as plt\n",
      "import numpy as np\n",
      "import math as m"
     ],
     "language": "python",
     "metadata": {},
     "outputs": [],
     "prompt_number": 1
    },
    {
     "cell_type": "code",
     "collapsed": false,
     "input": [
      "def rational_pi(low_bd=3,upper_bd=1000):\n",
      "    num = 2.0\n",
      "    den = 1.0\n",
      "    dist = abs(m.pi-num/den)\n",
      "    nlist = [] #place to store results\n",
      "    for new_num in range(low_bd,upper_bd+1):\n",
      "        new_den = np.round(new_num/m.pi)\n",
      "        new_dist = abs(new_num/new_den-m.pi)\n",
      "        if new_dist < dist:\n",
      "            num = new_num\n",
      "            den = new_den\n",
      "            dist = new_dist\n",
      "            #print new_num, new_den, new_dist, new_num/new_den\n",
      "            #save numerators with improvement:\n",
      "            nlist.append(num)\n",
      "    return num,den,num/den,nlist"
     ],
     "language": "python",
     "metadata": {},
     "outputs": [],
     "prompt_number": 6
    },
    {
     "cell_type": "code",
     "collapsed": false,
     "input": [
      "n,d,v,l = rational_pi(50000000)"
     ],
     "language": "python",
     "metadata": {},
     "outputs": [],
     "prompt_number": 3
    },
    {
     "cell_type": "code",
     "collapsed": false,
     "input": [
      "%matplotlib inline\n",
      "plt.scatter(l,l)"
     ],
     "language": "python",
     "metadata": {},
     "outputs": [
      {
       "metadata": {},
       "output_type": "pyout",
       "prompt_number": 4,
       "text": [
        "<matplotlib.collections.PathCollection at 0x106543cd0>"
       ]
      },
      {
       "metadata": {},
       "output_type": "display_data",
       "png": "[encoded data removed]",
       "text": [
        "<matplotlib.figure.Figure at 0x106385610>"
       ]
      }
     ],
     "prompt_number": 4
    },
    {
     "cell_type": "code",
     "collapsed": false,
     "input": [
      "n2,d2,v2,l2 = rational_pi(50000000,100000000)"
     ],
     "language": "python",
     "metadata": {},
     "outputs": [],
     "prompt_number": 7
    },
    {
     "cell_type": "code",
     "collapsed": false,
     "input": [
      "plt.scatter(l2,l2)"
     ],
     "language": "python",
     "metadata": {},
     "outputs": [
      {
       "metadata": {},
       "output_type": "pyout",
       "prompt_number": 8,
       "text": [
        "<matplotlib.collections.PathCollection at 0x10680c590>"
       ]
      },
      {
       "metadata": {},
       "output_type": "display_data",
       "png": "[encoded data removed]",
       "text": [
        "<matplotlib.figure.Figure at 0x106721a50>"
       ]
      }
     ],
     "prompt_number": 8
    },
    {
     "cell_type": "code",
     "collapsed": false,
     "input": [
      "l2"
     ],
     "language": "python",
     "metadata": {},
     "outputs": [
      {
       "metadata": {},
       "output_type": "pyout",
       "prompt_number": 9,
       "text": [
        "[50000000,\n",
        " 50000002,\n",
        " 50000018,\n",
        " 50000021,\n",
        " 50000043,\n",
        " 50000065,\n",
        " 50000420,\n",
        " 50000775,\n",
        " 50001130,\n",
        " 50001485,\n",
        " 50001840,\n",
        " 50002195,\n",
        " 50002550,\n",
        " 50002905,\n",
        " 50003260,\n",
        " 50003615,\n",
        " 50003970,\n",
        " 50004325,\n",
        " 50004680,\n",
        " 50005035,\n",
        " 50005390,\n",
        " 50005745,\n",
        " 50006100,\n",
        " 50006455,\n",
        " 50006810,\n",
        " 50007165,\n",
        " 50007520,\n",
        " 50007875,\n",
        " 50008230,\n",
        " 50008585,\n",
        " 50008940,\n",
        " 50009295,\n",
        " 50009650,\n",
        " 50010005,\n",
        " 50010360,\n",
        " 50010715,\n",
        " 50011070,\n",
        " 50011425,\n",
        " 50011780,\n",
        " 50012135,\n",
        " 50012490,\n",
        " 50012845,\n",
        " 50013200,\n",
        " 50013555,\n",
        " 50013910,\n",
        " 50014265,\n",
        " 50014620,\n",
        " 50014975,\n",
        " 50015330,\n",
        " 50015685,\n",
        " 50016040,\n",
        " 50016395,\n",
        " 50016750,\n",
        " 50017105,\n",
        " 50017460,\n",
        " 50017815,\n",
        " 50018170,\n",
        " 50018525,\n",
        " 50018880,\n",
        " 50019235,\n",
        " 50019590,\n",
        " 50019945,\n",
        " 50020300,\n",
        " 50020655,\n",
        " 50021010,\n",
        " 50021365,\n",
        " 50021720,\n",
        " 50022075,\n",
        " 50022430,\n",
        " 50022785,\n",
        " 50023140,\n",
        " 50023495,\n",
        " 50023850,\n",
        " 50024205,\n",
        " 50024560,\n",
        " 50024915,\n",
        " 50128908,\n",
        " 50233256,\n",
        " 50754286,\n",
        " 51900694,\n",
        " 53047102,\n",
        " 58466453,\n",
        " 63885804,\n",
        " 69305155,\n",
        " 74724506,\n",
        " 80143857]"
       ]
      }
     ],
     "prompt_number": 9
    },
    {
     "cell_type": "code",
     "collapsed": false,
     "input": [
      "l"
     ],
     "language": "python",
     "metadata": {},
     "outputs": [
      {
       "metadata": {},
       "output_type": "pyout",
       "prompt_number": 10,
       "text": [
        "[3,\n",
        " 13,\n",
        " 16,\n",
        " 19,\n",
        " 22,\n",
        " 179,\n",
        " 201,\n",
        " 223,\n",
        " 245,\n",
        " 267,\n",
        " 289,\n",
        " 311,\n",
        " 333,\n",
        " 355,\n",
        " 52163,\n",
        " 52518,\n",
        " 52873,\n",
        " 53228,\n",
        " 53583,\n",
        " 53938,\n",
        " 54293,\n",
        " 54648,\n",
        " 55003,\n",
        " 55358,\n",
        " 55713,\n",
        " 56068,\n",
        " 56423,\n",
        " 56778,\n",
        " 57133,\n",
        " 57488,\n",
        " 57843,\n",
        " 58198,\n",
        " 58553,\n",
        " 58908,\n",
        " 59263,\n",
        " 59618,\n",
        " 59973,\n",
        " 60328,\n",
        " 60683,\n",
        " 61038,\n",
        " 61393,\n",
        " 61748,\n",
        " 62103,\n",
        " 62458,\n",
        " 62813,\n",
        " 63168,\n",
        " 63523,\n",
        " 63878,\n",
        " 64233,\n",
        " 64588,\n",
        " 64943,\n",
        " 65298,\n",
        " 65653,\n",
        " 66008,\n",
        " 66363,\n",
        " 66718,\n",
        " 67073,\n",
        " 67428,\n",
        " 67783,\n",
        " 68138,\n",
        " 68493,\n",
        " 68848,\n",
        " 69203,\n",
        " 69558,\n",
        " 69913,\n",
        " 70268,\n",
        " 70623,\n",
        " 70978,\n",
        " 71333,\n",
        " 71688,\n",
        " 72043,\n",
        " 72398,\n",
        " 72753,\n",
        " 73108,\n",
        " 73463,\n",
        " 73818,\n",
        " 74173,\n",
        " 74528,\n",
        " 74883,\n",
        " 75238,\n",
        " 75593,\n",
        " 75948,\n",
        " 76303,\n",
        " 76658,\n",
        " 77013,\n",
        " 77368,\n",
        " 77723,\n",
        " 78078,\n",
        " 78433,\n",
        " 78788,\n",
        " 79143,\n",
        " 79498,\n",
        " 79853,\n",
        " 80208,\n",
        " 80563,\n",
        " 80918,\n",
        " 81273,\n",
        " 81628,\n",
        " 81983,\n",
        " 82338,\n",
        " 82693,\n",
        " 83048,\n",
        " 83403,\n",
        " 83758,\n",
        " 84113,\n",
        " 84468,\n",
        " 84823,\n",
        " 85178,\n",
        " 85533,\n",
        " 85888,\n",
        " 86243,\n",
        " 86598,\n",
        " 86953,\n",
        " 87308,\n",
        " 87663,\n",
        " 88018,\n",
        " 88373,\n",
        " 88728,\n",
        " 89083,\n",
        " 89438,\n",
        " 89793,\n",
        " 90148,\n",
        " 90503,\n",
        " 90858,\n",
        " 91213,\n",
        " 91568,\n",
        " 91923,\n",
        " 92278,\n",
        " 92633,\n",
        " 92988,\n",
        " 93343,\n",
        " 93698,\n",
        " 94053,\n",
        " 94408,\n",
        " 94763,\n",
        " 95118,\n",
        " 95473,\n",
        " 95828,\n",
        " 96183,\n",
        " 96538,\n",
        " 96893,\n",
        " 97248,\n",
        " 97603,\n",
        " 97958,\n",
        " 98313,\n",
        " 98668,\n",
        " 99023,\n",
        " 99378,\n",
        " 99733,\n",
        " 100088,\n",
        " 100443,\n",
        " 100798,\n",
        " 101153,\n",
        " 101508,\n",
        " 101863,\n",
        " 102218,\n",
        " 102573,\n",
        " 102928,\n",
        " 103283,\n",
        " 103638,\n",
        " 103993,\n",
        " 104348,\n",
        " 208341,\n",
        " 312689,\n",
        " 833719,\n",
        " 1146408,\n",
        " 3126535,\n",
        " 4272943,\n",
        " 5419351,\n",
        " 42208400,\n",
        " 47627751]"
       ]
      }
     ],
     "prompt_number": 10
    },
    {
     "cell_type": "code",
     "collapsed": false,
     "input": [
      "l.extend(l2)"
     ],
     "language": "python",
     "metadata": {},
     "outputs": [],
     "prompt_number": 36
    },
    {
     "cell_type": "code",
     "collapsed": false,
     "input": [
      "ks = [3,4]"
     ],
     "language": "python",
     "metadata": {},
     "outputs": [],
     "prompt_number": 33
    },
    {
     "cell_type": "code",
     "collapsed": false,
     "input": [
      "ls.extend(ks)"
     ],
     "language": "python",
     "metadata": {},
     "outputs": [],
     "prompt_number": 34
    },
    {
     "cell_type": "code",
     "collapsed": false,
     "input": [
      "plt.scatter(l,l)"
     ],
     "language": "python",
     "metadata": {},
     "outputs": [
      {
       "metadata": {},
       "output_type": "pyout",
       "prompt_number": 37,
       "text": [
        "<matplotlib.collections.PathCollection at 0x106962590>"
       ]
      },
      {
       "metadata": {},
       "output_type": "display_data",
       "png": "[encoded data removed]",
       "text": [
        "<matplotlib.figure.Figure at 0x106823650>"
       ]
      }
     ],
     "prompt_number": 37
    },
    {
     "cell_type": "code",
     "collapsed": false,
     "input": [
      "n2,d2,n2/d2"
     ],
     "language": "python",
     "metadata": {},
     "outputs": [
      {
       "metadata": {},
       "output_type": "pyout",
       "prompt_number": 39,
       "text": [
        "(80143857, 25510582.0, 3.1415926535897927)"
       ]
      }
     ],
     "prompt_number": 39
    },
    {
     "cell_type": "code",
     "collapsed": false,
     "input": [
      "n3,d3,v3,l3 = rational_pi(100000000,150000000)"
     ],
     "language": "python",
     "metadata": {},
     "outputs": [],
     "prompt_number": 40
    },
    {
     "cell_type": "code",
     "collapsed": false,
     "input": [
      "n4,d4,v4,l4 = rational_pi(150000000,250000000)"
     ],
     "language": "python",
     "metadata": {},
     "outputs": [],
     "prompt_number": 41
    },
    {
     "cell_type": "code",
     "collapsed": false,
     "input": [
      "l.extend(l3)"
     ],
     "language": "python",
     "metadata": {},
     "outputs": [],
     "prompt_number": 42
    },
    {
     "cell_type": "code",
     "collapsed": false,
     "input": [
      "l.extend(l4)"
     ],
     "language": "python",
     "metadata": {},
     "outputs": [],
     "prompt_number": 43
    },
    {
     "cell_type": "code",
     "collapsed": false,
     "input": [
      "plt.scatter(l,l)"
     ],
     "language": "python",
     "metadata": {},
     "outputs": [
      {
       "metadata": {},
       "output_type": "pyout",
       "prompt_number": 44,
       "text": [
        "<matplotlib.collections.PathCollection at 0x106a77e50>"
       ]
      },
      {
       "metadata": {},
       "output_type": "display_data",
       "png": "[encoded data removed]",
       "text": [
        "<matplotlib.figure.Figure at 0x1069a06d0>"
       ]
      }
     ],
     "prompt_number": 44
    },
    {
     "cell_type": "code",
     "collapsed": false,
     "input": [
      "print n4,d4,n4/d4,m.pi"
     ],
     "language": "python",
     "metadata": {},
     "outputs": [
      {
       "output_type": "stream",
       "stream": "stdout",
       "text": [
        " 245850922 78256779.0 3.14159265359 3.14159265359\n"
       ]
      }
     ],
     "prompt_number": 47
    },
    {
     "cell_type": "code",
     "collapsed": false,
     "input": [
      "def isPrime(n):\n",
      "    #don't waste time with div. by 2, generally, but include it for completeness\n",
      "    for i in range(2,int(n**0.5)+1):\n",
      "        if n%i==0:\n",
      "            return False\n",
      "    return True"
     ],
     "language": "python",
     "metadata": {},
     "outputs": [],
     "prompt_number": 48
    },
    {
     "cell_type": "code",
     "collapsed": false,
     "input": [
      "isPrime(1001)"
     ],
     "language": "python",
     "metadata": {},
     "outputs": [
      {
       "metadata": {},
       "output_type": "pyout",
       "prompt_number": 50,
       "text": [
        "False"
       ]
      }
     ],
     "prompt_number": 50
    },
    {
     "cell_type": "code",
     "collapsed": false,
     "input": [
      "prm = [x for x in range(1000001,10000001,2) if isPrime(x)]"
     ],
     "language": "python",
     "metadata": {},
     "outputs": [],
     "prompt_number": 64
    },
    {
     "cell_type": "code",
     "collapsed": false,
     "input": [
      "len(prm)"
     ],
     "language": "python",
     "metadata": {},
     "outputs": [
      {
       "metadata": {},
       "output_type": "pyout",
       "prompt_number": 67,
       "text": [
        "586081"
       ]
      }
     ],
     "prompt_number": 67
    },
    {
     "cell_type": "code",
     "collapsed": false,
     "input": [
      "dfa=zip(prm[1:],prm[:-1])"
     ],
     "language": "python",
     "metadata": {},
     "outputs": [],
     "prompt_number": 77
    },
    {
     "cell_type": "code",
     "collapsed": false,
     "input": [
      "a=np.array(prm[1:])"
     ],
     "language": "python",
     "metadata": {},
     "outputs": [],
     "prompt_number": 79
    },
    {
     "cell_type": "code",
     "collapsed": false,
     "input": [
      "b=np.array(prm[:-1])"
     ],
     "language": "python",
     "metadata": {},
     "outputs": [],
     "prompt_number": 80
    },
    {
     "cell_type": "code",
     "collapsed": false,
     "input": [
      "c = a-b"
     ],
     "language": "python",
     "metadata": {},
     "outputs": [],
     "prompt_number": 81
    },
    {
     "cell_type": "code",
     "collapsed": false,
     "input": [
      "plt.scatter(c,c,s=.1)"
     ],
     "language": "python",
     "metadata": {},
     "outputs": [
      {
       "metadata": {},
       "output_type": "pyout",
       "prompt_number": 87,
       "text": [
        "<matplotlib.collections.PathCollection at 0x10cd45f90>"
       ]
      },
      {
       "metadata": {},
       "output_type": "display_data",
       "png": "[encoded data removed]",
       "text": [
        "<matplotlib.figure.Figure at 0x10cc82590>"
       ]
      }
     ],
     "prompt_number": 87
    },
    {
     "cell_type": "code",
     "collapsed": false,
     "input": [
      "len(c)\n"
     ],
     "language": "python",
     "metadata": {},
     "outputs": [
      {
       "metadata": {},
       "output_type": "pyout",
       "prompt_number": 86,
       "text": [
        "586080"
       ]
      }
     ],
     "prompt_number": 86
    },
    {
     "cell_type": "code",
     "collapsed": false,
     "input": [],
     "language": "python",
     "metadata": {},
     "outputs": []
    }
   ],
   "metadata": {}
  }
 ]
}